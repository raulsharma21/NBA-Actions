{
 "cells": [
  {
   "cell_type": "code",
   "execution_count": 1,
   "id": "7e51a4ce",
   "metadata": {},
   "outputs": [],
   "source": [
    "# import necessary libraries\n",
    "from sklearn.model_selection import train_test_split\n",
    "from sklearn.preprocessing import OneHotEncoder, StandardScaler\n",
    "import numpy as np\n",
    "import pandas as pd\n",
    "from nba_api.stats.endpoints import shotchartdetail\n",
    "import tensorflow as tf\n",
    "import tensorflow.keras as keras\n",
    "from sklearn.metrics import classification_report, confusion_matrix\n",
    "from sklearn.model_selection import RandomizedSearchCV\n",
    "from scikeras.wrappers import KerasClassifier\n",
    "from sklearn.utils import class_weight\n",
    "import matplotlib.pyplot as plt\n",
    "import seaborn as sns"
   ]
  },
  {
   "cell_type": "code",
   "execution_count": 14,
   "id": "55f9acee",
   "metadata": {},
   "outputs": [
    {
     "name": "stdout",
     "output_type": "stream",
     "text": [
      "\u001b[1m1/1\u001b[0m \u001b[32m━━━━━━━━━━━━━━━━━━━━\u001b[0m\u001b[37m\u001b[0m \u001b[1m0s\u001b[0m 33ms/step\n",
      "Predicted shot probability: 0.0\n",
      "Predicted shot result: Missed\n"
     ]
    }
   ],
   "source": [
    "model = keras.models.load_model('CURRY_NN.keras')\n",
    "\n",
    "# Example shot data\n",
    "new_shot = [2, 30, -100, 300, 540, 1, 0.5, 1, 0, 0, 0, 0,0]\n",
    "\n",
    "y = model.predict(np.array([new_shot]))\n",
    "print(\"Predicted shot probability:\", y[0][0].round(2))\n",
    "print(\"Predicted shot result:\", \"Made\" if y[0][0] > 0.5 else \"Missed\")"
   ]
  }
 ],
 "metadata": {
  "kernelspec": {
   "display_name": ".venv",
   "language": "python",
   "name": "python3"
  },
  "language_info": {
   "codemirror_mode": {
    "name": "ipython",
    "version": 3
   },
   "file_extension": ".py",
   "mimetype": "text/x-python",
   "name": "python",
   "nbconvert_exporter": "python",
   "pygments_lexer": "ipython3",
   "version": "3.11.8"
  }
 },
 "nbformat": 4,
 "nbformat_minor": 5
}
