{
 "cells": [
  {
   "cell_type": "code",
   "execution_count": null,
   "id": "b46478f4",
   "metadata": {},
   "outputs": [],
   "source": [
    "# Neural Network code"
   ]
  }
 ],
 "metadata": {
  "language_info": {
   "name": "python"
  }
 },
 "nbformat": 4,
 "nbformat_minor": 5
}
